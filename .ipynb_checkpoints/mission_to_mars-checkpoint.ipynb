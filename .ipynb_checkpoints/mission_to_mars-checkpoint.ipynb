{
 "cells": [
  {
   "cell_type": "code",
   "execution_count": 1,
   "metadata": {},
   "outputs": [],
   "source": [
    "from bs4 import BeautifulSoup\n",
    "from splinter import Browser\n",
    "from webdriver_manager.chrome import ChromeDriverManager\n",
    "import pandas as pd\n",
    "import requests"
   ]
  },
  {
   "cell_type": "code",
   "execution_count": 2,
   "metadata": {},
   "outputs": [
    {
     "name": "stderr",
     "output_type": "stream",
     "text": [
      "\n",
      "\n",
      "====== WebDriver manager ======\n",
      "Current google-chrome version is 91.0.4472\n",
      "Get LATEST driver version for 91.0.4472\n",
      "Driver [C:\\Users\\raulm\\.wdm\\drivers\\chromedriver\\win32\\91.0.4472.19\\chromedriver.exe] found in cache\n"
     ]
    }
   ],
   "source": [
    "executable_path = {'executable_path': ChromeDriverManager().install()}\n",
    "browser = Browser('chrome', **executable_path, headless=False)"
   ]
  },
  {
   "cell_type": "code",
   "execution_count": null,
   "metadata": {},
   "outputs": [],
   "source": [
    "url = 'https://redplanetscience.com/'\n",
    "browser.visit(url)"
   ]
  },
  {
   "cell_type": "code",
   "execution_count": null,
   "metadata": {},
   "outputs": [],
   "source": [
    "news_title = []\n",
    "news_p = []\n",
    "\n",
    "html = browser.html\n",
    "soup = BeautifulSoup(html, 'html.parser')\n",
    "\n",
    "news = soup.find('section', class_='image_and_description_container')\n",
    "titles = news.find_all('div', class_='content_title')\n",
    "descriptions = news.find_all('div', class_='article_teaser_body')\n",
    "\n",
    "for title in titles:\n",
    "    main_title = title.text\n",
    "    news_title.append(main_title)\n",
    "    \n",
    "for description in descriptions:\n",
    "    main_description = description.text\n",
    "    news_p.append(main_description)\n"
   ]
  },
  {
   "cell_type": "code",
   "execution_count": null,
   "metadata": {
    "scrolled": true
   },
   "outputs": [],
   "source": [
    "n = len(news_p)\n",
    "c = 0\n",
    "\n",
    "while c < n:\n",
    "    print(news_title[c])\n",
    "    print(news_p[c])\n",
    "    print('--------------')\n",
    "    c = c + 1\n",
    "    "
   ]
  },
  {
   "cell_type": "code",
   "execution_count": 3,
   "metadata": {},
   "outputs": [],
   "source": [
    "mars_url = 'https://spaceimages-mars.com/'\n",
    "browser.visit(mars_url)"
   ]
  },
  {
   "cell_type": "code",
   "execution_count": 4,
   "metadata": {},
   "outputs": [
    {
     "data": {
      "text/plain": [
       "['https://spaceimages-mars.com/image/mars/Icaria Fossae7.jpg',\n",
       " 'https://spaceimages-mars.com/image/mars/Proctor Crater Dunes 7.jpg',\n",
       " 'https://spaceimages-mars.com/image/mars/Icaria Fossae7.jpg',\n",
       " 'https://spaceimages-mars.com/image/mars/Proctor Crater Dunes 7.jpg',\n",
       " 'https://spaceimages-mars.com/image/mars/Proctor Crater Dunes 7.jpg',\n",
       " 'https://spaceimages-mars.com/image/mars/Icaria Fossae7.jpg',\n",
       " 'https://spaceimages-mars.com/image/mars/Icaria Fossae.jpg',\n",
       " 'https://spaceimages-mars.com/image/mars/Ariadnes Colles4.jpg',\n",
       " 'https://spaceimages-mars.com/image/mars/Niger Vallis.jpg',\n",
       " 'https://spaceimages-mars.com/image/mars/Proctor Crater Dunes.jpg',\n",
       " 'https://spaceimages-mars.com/image/mars/Niger Vallis.jpg',\n",
       " 'https://spaceimages-mars.com/image/mars/Daedalia Planum.jpg',\n",
       " 'https://spaceimages-mars.com/image/mars/Sirenum Fossae.jpg',\n",
       " 'https://spaceimages-mars.com/image/mars/Ariadnes Colles4.jpg',\n",
       " 'https://spaceimages-mars.com/image/mars/South Polar Cap.jpg',\n",
       " 'https://spaceimages-mars.com/image/mars/Daedalia Planum.jpg',\n",
       " 'https://spaceimages-mars.com/image/mars/Ariadnes Colles3.jpg',\n",
       " 'https://spaceimages-mars.com/image/mars/Atlantis Chaos.jpg',\n",
       " 'https://spaceimages-mars.com/image/mars/Daedalia Planum.jpg',\n",
       " 'https://spaceimages-mars.com/image/mars/Icaria Fossae.jpg',\n",
       " 'https://spaceimages-mars.com/image/mars/Niger Vallis.jpg',\n",
       " 'https://spaceimages-mars.com/image/mars/Proctor Crater Dunes.jpg',\n",
       " 'https://spaceimages-mars.com/image/mars/Reull Vallis.jpg',\n",
       " 'https://spaceimages-mars.com/image/mars/Ariadnes Colles3.jpg',\n",
       " 'https://spaceimages-mars.com/image/mars/Sirenum Fossae.jpg',\n",
       " 'https://spaceimages-mars.com/image/mars/South Polar Cap.jpg',\n",
       " 'https://spaceimages-mars.com/image/mars/Niger Vallis.jpg',\n",
       " 'https://spaceimages-mars.com/image/mars/Daedalia Planum.jpg',\n",
       " 'https://spaceimages-mars.com/image/mars/Icaria Fossae.jpg',\n",
       " 'https://spaceimages-mars.com/image/mars/Ariadnes Colles4.jpg',\n",
       " 'https://spaceimages-mars.com/image/mars/South Polar Cap.jpg',\n",
       " 'https://spaceimages-mars.com/image/mars/Daedalia Planum.jpg']"
      ]
     },
     "execution_count": 4,
     "metadata": {},
     "output_type": "execute_result"
    }
   ],
   "source": [
    "images_urls = []\n",
    "html = browser.html\n",
    "soup = BeautifulSoup(html, 'html.parser')\n",
    "\n",
    "margin = soup.find('div', class_='container mt-5')\n",
    "div_one = margin.find('div', class_=\"div1\")\n",
    "thmb = div_one.find('div', class_=\"thmbgroup\")\n",
    "a = thmb.find_all('a')\n",
    "for x in a:\n",
    "    image_url = x['href']\n",
    "    images_urls.append(image_url)\n",
    "    \n",
    "featured_image_urls= ['https://spaceimages-mars.com/' + direct for direct in images_urls]    \n",
    "featured_image_urls"
   ]
  },
  {
   "cell_type": "code",
   "execution_count": 9,
   "metadata": {},
   "outputs": [
    {
     "data": {
      "text/plain": [
       "'https://spaceimages-mars.com/image/featured/mars3.jpg'"
      ]
     },
     "execution_count": 9,
     "metadata": {},
     "output_type": "execute_result"
    }
   ],
   "source": [
    "html = browser.html\n",
    "soup = BeautifulSoup(html, 'html.parser')\n",
    "\n",
    "header = soup.find('div', class_='header')\n",
    "image =  header.find('img', class_='headerimage fade-in')\n",
    "featured_image_url = f'https://spaceimages-mars.com/{image[\"src\"]}'\n",
    "featured_image_url"
   ]
  },
  {
   "cell_type": "code",
   "execution_count": null,
   "metadata": {},
   "outputs": [],
   "source": [
    "browser.quit()"
   ]
  },
  {
   "cell_type": "code",
   "execution_count": null,
   "metadata": {},
   "outputs": [],
   "source": []
  }
 ],
 "metadata": {
  "kernelspec": {
   "display_name": "Python 3",
   "language": "python",
   "name": "python3"
  },
  "language_info": {
   "codemirror_mode": {
    "name": "ipython",
    "version": 3
   },
   "file_extension": ".py",
   "mimetype": "text/x-python",
   "name": "python",
   "nbconvert_exporter": "python",
   "pygments_lexer": "ipython3",
   "version": "3.8.5"
  }
 },
 "nbformat": 4,
 "nbformat_minor": 4
}
